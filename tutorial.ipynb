{
 "cells": [
  {
   "cell_type": "code",
   "execution_count": 1,
   "id": "e7113b76",
   "metadata": {
    "scrolled": true
   },
   "outputs": [
    {
     "name": "stderr",
     "output_type": "stream",
     "text": [
      "100%|██████████| 1/1 [00:00<00:00, 1571.49it/s]"
     ]
    },
    {
     "name": "stdout",
     "output_type": "stream",
     "text": [
      "outputs/20ng/corpus 17 \n",
      "\n"
     ]
    },
    {
     "name": "stderr",
     "output_type": "stream",
     "text": [
      "\n",
      "100%|██████████| 17/17 [00:00<00:00, 14910.74it/s]\n",
      "100%|██████████| 17/17 [00:00<00:00, 5862.30it/s]"
     ]
    },
    {
     "name": "stdout",
     "output_type": "stream",
     "text": [
      "vocab saved: outputs/20ng/vocab_count.pkl\n"
     ]
    },
    {
     "name": "stderr",
     "output_type": "stream",
     "text": [
      "\n",
      "100%|██████████| 17/17 [00:00<00:00, 26108.81it/s]\n",
      "100%|██████████| 17/17 [00:00<00:00, 48472.58it/s]"
     ]
    },
    {
     "name": "stdout",
     "output_type": "stream",
     "text": [
      "histogram saved: outputs/20ng/histogram.csv\n"
     ]
    },
    {
     "name": "stderr",
     "output_type": "stream",
     "text": [
      "\n",
      "100%|██████████| 17/17 [00:05<00:00,  3.30it/s]\n"
     ]
    },
    {
     "name": "stdout",
     "output_type": "stream",
     "text": [
      "pre-counting completed, post-processing...\n"
     ]
    },
    {
     "name": "stderr",
     "output_type": "stream",
     "text": [
      "100%|██████████| 17/17 [00:00<00:00, 24203.38it/s]"
     ]
    },
    {
     "name": "stdout",
     "output_type": "stream",
     "text": [
      "single counts completed, joint counting...\n"
     ]
    },
    {
     "name": "stderr",
     "output_type": "stream",
     "text": [
      "\n",
      "100%|██████████| 17/17 [00:00<00:00, 23008.44it/s]\n"
     ]
    },
    {
     "name": "stdout",
     "output_type": "stream",
     "text": [
      "joint counts completed, dumping...\n",
      "cleaning...\n",
      "completed.\n",
      "Single prior counts saved to: outputs/20ng/10/single.pkl\n",
      "Joint co-occurrence counts saved to: outputs/20ng/10/joint\n"
     ]
    }
   ],
   "source": [
    "import os\n",
    "import pickle\n",
    "from topic_metrics.counting import split_corpus, count_histogram, count_vocab, count_windows\n",
    "\n",
    "test_dir = \"tests/20ng/corpus\"\n",
    "dest_dir = \"outputs/20ng\"\n",
    "\n",
    "corpus_dir = os.path.join(dest_dir, 'corpus')\n",
    "os.makedirs(dest_dir, exist_ok=True)\n",
    "os.makedirs(corpus_dir, exist_ok=True)\n",
    "\n",
    "\"\"\"\n",
    "split documents into smaller batches for faster processing\n",
    "\"\"\"\n",
    "\n",
    "split_corpus(test_dir, corpus_dir, batch=1000, num_processes=1)\n",
    "print(corpus_dir, len(os.listdir(corpus_dir)),'\\n')\n",
    "\n",
    "\"\"\"\n",
    "further process corpus via sliding windows\n",
    "We calculate co-occurence in sliding windows via convolutions and boolean operations\n",
    "\"\"\"\n",
    "count_vocab(corpus_dir, dest_dir, num_processes=4)\n",
    "\n",
    "# uploaded vocab are in alphabetically-sorted\n",
    "vocab = sorted(pickle.load(open(f\"{dest_dir}/vocab_count.pkl\", 'rb')))\n",
    "vocab_index = {k:i for i,k in enumerate(vocab)}\n",
    "count_histogram(corpus_dir,dest_dir, num_processes=4)\n",
    "count_windows(corpus_dir, dest_dir, window_size=10, vocab2id=vocab_index, num_processes=10)"
   ]
  },
  {
   "cell_type": "code",
   "execution_count": 4,
   "id": "910b62f6",
   "metadata": {},
   "outputs": [
    {
     "name": "stderr",
     "output_type": "stream",
     "text": [
      "100%|██████████| 1612/1612 [00:00<00:00, 2357.09it/s]\n"
     ]
    },
    {
     "name": "stdout",
     "output_type": "stream",
     "text": [
      "1612\n"
     ]
    }
   ],
   "source": [
    "\"\"\"\n",
    "Next, we can easily load the count graphs as probability graphs\n",
    "\"\"\"\n",
    "from topic_metrics.measuring import single_count_setup, load_joint_prob_graph, create_graph_with, npmi\n",
    "import time\n",
    "\n",
    "dest_npmi = 'outputs/20ng/npmi_10'\n",
    "os.makedirs(dest_npmi, exist_ok=True)\n",
    "\n",
    "num_windows, single_prob = single_count_setup(\"outputs/20ng/histogram.csv\",\n",
    "                                              \"outputs/20ng/10/single.pkl\",\n",
    "                                              window_size=10, min_freq=0)\n",
    "\n",
    "joint_prob = load_joint_prob_graph(\"outputs/20ng/10/joint\", \n",
    "                        num_windows=num_windows, min_freq=0, shortlist=[],\n",
    "                          num_processes=20, existing_graph={})\n",
    "\n",
    "\"\"\"\n",
    "Using the probability graph, we can create scored (npmi) graphs\n",
    "\"\"\"\n",
    "npmi_graph = create_graph_with(npmi, joint_prob, single_prob, smooth=True)\n",
    "\n",
    "\"\"\"\n",
    "Saving it in a similar format as count graphs\n",
    "\"\"\"\n",
    "for k1, s in npmi_graph.items():\n",
    "    pickle.dump(dict(s), open(os.path.join(dest_npmi,f\"{k1}.pkl\"), \"wb\"))\n",
    "print(len(os.listdir('outputs/20ng/npmi_10')))"
   ]
  },
  {
   "cell_type": "code",
   "execution_count": 5,
   "id": "ce2f4bd5",
   "metadata": {
    "scrolled": true
   },
   "outputs": [
    {
     "name": "stderr",
     "output_type": "stream",
     "text": [
      "100%|██████████| 50/50 [00:00<00:00, 614.07it/s]"
     ]
    },
    {
     "name": "stdout",
     "output_type": "stream",
     "text": [
      "-0.0099 interpretation obvious statement lack suit absolutely personal fool truth absolute\n",
      "0.1815 commercial capability element flight station space shuttle satellite vehicle launch\n",
      "0.1322 prepare bear heart faith life sin pray day hell eternal\n",
      "0.1271 application character printer problem font manager mouse button window print\n",
      "-0.1906 actual quickly accurate advantage capable guarantee gather pre portion suit\n",
      "0.1387 number child disease age medical patient year health risk adult\n",
      "0.1892 session secret attack algorithm key random block bit encryption chip\n",
      "0.0647 black sign cover art game man annual title copy bag\n",
      "-0.1035 operate favor money suit bank raise stay taxis task worry\n",
      "0.1162 stick shoot play zone game goal good penalty point time\n",
      "0.2157 shift tire gear road bike ride brake transmission engine car\n",
      "0.0504 past sick eat hour late ago week doctor pain month\n",
      "0.0616 building brother floor hide morning year neighbor work time people\n",
      "0.1013 woman car start neighbor door police building people floor gun\n",
      "0.2677 coverage player watch playoff team game fan sport baseball hockey\n",
      "0.0923 processing workstation database map render trace printer graphic model package\n",
      "0.0084 location copyright library update convert domain permission code advance compile\n",
      "0.1977 oil fuel cpu air cool hot water heat temperature battery\n",
      "0.1961 price brand ship offer sale sell manual interested item shipping\n",
      "0.0921 soldier agent claim village shoot compound civilian fire troop tank\n",
      "0.0455 christian religion write group catholic church read book vote post\n",
      "0.0999 red bit plane correction color display monitor screen image green\n",
      "0.1857 translation man verse male cite word homosexuality writer context homosexual\n",
      "0.0264 compress file section quality program good rule entry compression remark\n",
      "0.1401 tool binary window patch motif client export include subject terminal\n",
      "0.1320 key number lock chip keyboard phone serial modem mouse port\n",
      "0.1486 launch instrument satellite moon orbit stage rocket visible shuttle suit\n",
      "0.1199 policy people system mail email computer internet privacy electronic network\n",
      "0.0450 application default destroy shell variable app food problem resource window\n",
      "0.1594 win average hit run player good stat year pitcher pitch\n",
      "0.1174 universe moon solar temperature star time sun ring surface planet\n",
      "0.1759 religious weak thing faith exist people atheist religion belief atheism\n",
      "0.0539 gun president amendment assault weapon yesterday decision bill firearm file\n",
      "0.1561 money cost tax customer sell dealer insurance pay price buy\n",
      "0.0753 science submit university registration computer student conference research paper education\n",
      "0.0996 american official program money administration fund president russian food work\n",
      "0.2283 tape controller boot hard crash backup floppy disk drive problem\n",
      "0.1827 peace party occupy land jewish greek territory israeli state arab\n",
      "0.1284 encryption criminal drug federal illegal law legal license government tax\n",
      "0.0784 society sin love guilty gay hate innocent good evil people\n",
      "0.1363 existence agree objective observation science scientific evidence morality theory moral\n",
      "0.1848 local bus memory port monitor video driver slot card apple\n",
      "0.2127 tie game blue shot save period score lead lose win\n",
      "0.1746 output power wire voltage drive connector signal circuit cable pin\n",
      "0.0814 buy fit paint cheap price bike condition black sale sell\n",
      "0.0617 reduce affect effect sound tend frequency low blood level noise\n",
      "0.2623 german population muslim russian genocide soviet organize armenian people turkish\n",
      "0.1922 cpu slow performance processor frame mhz fast faster scsi speed\n",
      "0.0359 sexual straight crime homosexual trial dog gay sex survey man\n",
      "0.1687 response reader reply mail address summary email news mailing post\n"
     ]
    },
    {
     "name": "stderr",
     "output_type": "stream",
     "text": [
      "\n"
     ]
    }
   ],
   "source": [
    "\"\"\"\n",
    "Let's use our corpus statistic to evaluate a trained model\n",
    "We convert the topics to vocab id corresponding to our processed statistics\n",
    "\"\"\"\n",
    "import topic_metrics\n",
    "from topic_metrics.measuring import calculate_scores_from_counts, direct_avg\n",
    "\n",
    "opt_scores = pickle.load(open(\"/home/jiapeng/project3/baselines/ctm_20NewsGroup_50/results_b0_mf50_orig.pkl\",'rb'))\n",
    "topics = [x[-1] for x  in opt_scores]\n",
    "\n",
    "\"\"\"\n",
    "We can lazily calculate directly from the counts\n",
    "Using counts give us flexibility to tweak the measures\n",
    "\"\"\"\n",
    "scores = calculate_scores_from_counts([[vocab_index[w] for w in t] for t in topics], \n",
    "                 \"outputs/20ng/histogram.csv\",\n",
    "                 \"outputs/20ng/10/single.pkl\",\n",
    "                 \"outputs/20ng/10/joint\", \n",
    "                score_func = npmi, window_size = 10, agg_func = direct_avg,\n",
    "                smooth=True, min_freq=0, num_processes=10)\n",
    "\n",
    "\n",
    "for topic, score in zip(topics, scores):\n",
    "    print(f\"{score:.4f} {' '.join(topic)}\")"
   ]
  },
  {
   "cell_type": "code",
   "execution_count": 8,
   "id": "386b0d2e",
   "metadata": {
    "scrolled": true
   },
   "outputs": [
    {
     "name": "stderr",
     "output_type": "stream",
     "text": [
      "100%|██████████| 50/50 [00:00<00:00, 37302.60it/s]"
     ]
    },
    {
     "name": "stdout",
     "output_type": "stream",
     "text": [
      "-0.0099 interpretation obvious statement lack suit absolutely personal fool truth absolute\n",
      "0.1815 commercial capability element flight station space shuttle satellite vehicle launch\n",
      "0.1322 prepare bear heart faith life sin pray day hell eternal\n",
      "0.1271 application character printer problem font manager mouse button window print\n",
      "-0.1906 actual quickly accurate advantage capable guarantee gather pre portion suit\n",
      "0.1387 number child disease age medical patient year health risk adult\n",
      "0.1892 session secret attack algorithm key random block bit encryption chip\n",
      "0.0647 black sign cover art game man annual title copy bag\n",
      "-0.1035 operate favor money suit bank raise stay taxis task worry\n",
      "0.1162 stick shoot play zone game goal good penalty point time\n",
      "0.2157 shift tire gear road bike ride brake transmission engine car\n",
      "0.0504 past sick eat hour late ago week doctor pain month\n",
      "0.0616 building brother floor hide morning year neighbor work time people\n",
      "0.1013 woman car start neighbor door police building people floor gun\n",
      "0.2677 coverage player watch playoff team game fan sport baseball hockey\n",
      "0.0923 processing workstation database map render trace printer graphic model package\n",
      "0.0084 location copyright library update convert domain permission code advance compile\n",
      "0.1977 oil fuel cpu air cool hot water heat temperature battery\n",
      "0.1961 price brand ship offer sale sell manual interested item shipping\n",
      "0.0921 soldier agent claim village shoot compound civilian fire troop tank\n",
      "0.0455 christian religion write group catholic church read book vote post\n",
      "0.0999 red bit plane correction color display monitor screen image green\n",
      "0.1857 translation man verse male cite word homosexuality writer context homosexual\n",
      "0.0264 compress file section quality program good rule entry compression remark\n",
      "0.1401 tool binary window patch motif client export include subject terminal\n",
      "0.1320 key number lock chip keyboard phone serial modem mouse port\n",
      "0.1486 launch instrument satellite moon orbit stage rocket visible shuttle suit\n",
      "0.1199 policy people system mail email computer internet privacy electronic network\n",
      "0.0450 application default destroy shell variable app food problem resource window\n",
      "0.1594 win average hit run player good stat year pitcher pitch\n",
      "0.1174 universe moon solar temperature star time sun ring surface planet\n",
      "0.1759 religious weak thing faith exist people atheist religion belief atheism\n",
      "0.0539 gun president amendment assault weapon yesterday decision bill firearm file\n",
      "0.1561 money cost tax customer sell dealer insurance pay price buy\n",
      "0.0753 science submit university registration computer student conference research paper education\n",
      "0.0996 american official program money administration fund president russian food work\n",
      "0.2283 tape controller boot hard crash backup floppy disk drive problem\n",
      "0.1827 peace party occupy land jewish greek territory israeli state arab\n",
      "0.1284 encryption criminal drug federal illegal law legal license government tax\n",
      "0.0784 society sin love guilty gay hate innocent good evil people\n",
      "0.1363 existence agree objective observation science scientific evidence morality theory moral\n",
      "0.1848 local bus memory port monitor video driver slot card apple\n",
      "0.2127 tie game blue shot save period score lead lose win\n",
      "0.1746 output power wire voltage drive connector signal circuit cable pin\n",
      "0.0814 buy fit paint cheap price bike condition black sale sell\n",
      "0.0617 reduce affect effect sound tend frequency low blood level noise\n",
      "0.2623 german population muslim russian genocide soviet organize armenian people turkish\n",
      "0.1922 cpu slow performance processor frame mhz fast faster scsi speed\n",
      "0.0359 sexual straight crime homosexual trial dog gay sex survey man\n",
      "0.1687 response reader reply mail address summary email news mailing post\n"
     ]
    },
    {
     "name": "stderr",
     "output_type": "stream",
     "text": [
      "\n"
     ]
    }
   ],
   "source": [
    "\"\"\"\n",
    "Since we already have an NPMI graph, let's use it to do the same calculations\n",
    "However, pre-calculating the entire NPMI graph can be time-consuming for larger corpus\n",
    "\"\"\"\n",
    "from topic_metrics.measuring import calculate_scored_graphs\n",
    "\n",
    "\n",
    "scores = calculate_scored_graphs([[vocab_index[w] for w in t] for t in topics],\n",
    "                 \"outputs/20ng/npmi_10\", \n",
    "                agg_func = direct_avg, num_processes=10)\n",
    "\n",
    "\n",
    "for topic, score in zip(topics, scores):\n",
    "    print(f\"{score:.4f} {' '.join(topic)}\")"
   ]
  },
  {
   "cell_type": "code",
   "execution_count": 10,
   "id": "4d7ff41a",
   "metadata": {
    "scrolled": true
   },
   "outputs": [
    {
     "name": "stdout",
     "output_type": "stream",
     "text": [
      "START: 522\n"
     ]
    },
    {
     "name": "stderr",
     "output_type": "stream",
     "text": [
      "238it [00:01, 183.69it/s]\n"
     ]
    },
    {
     "name": "stdout",
     "output_type": "stream",
     "text": [
      "522\tLoaded: 1.308131456375122\n",
      "522\tPruned: 13.719730615615845\n",
      "522\t@16.173567295074463s\t Sampled: 28\n",
      "START: 25926\n"
     ]
    },
    {
     "name": "stderr",
     "output_type": "stream",
     "text": [
      "349it [00:01, 178.40it/s]\n"
     ]
    },
    {
     "name": "stdout",
     "output_type": "stream",
     "text": [
      "25926\tLoaded: 1.9681410789489746\n",
      "25926\tPruned: 29.5809965133667\n",
      "25926\t@31.528244256973267s\t Sampled: 17\n",
      "START: 23859\n"
     ]
    },
    {
     "name": "stderr",
     "output_type": "stream",
     "text": [
      "113it [00:00, 204.67it/s]\n"
     ]
    },
    {
     "name": "stdout",
     "output_type": "stream",
     "text": [
      "23859\tLoaded: 0.563974142074585\n",
      "23859\tPruned: 3.3966941833496094\n",
      "23859\t@3.5509443283081055s\t Sampled: 5\n",
      "START: 19364\n"
     ]
    },
    {
     "name": "stderr",
     "output_type": "stream",
     "text": [
      "34it [00:00, 212.25it/s]\n"
     ]
    },
    {
     "name": "stdout",
     "output_type": "stream",
     "text": [
      "19364\tLoaded: 0.1718440055847168\n",
      "19364\tPruned: 0.4407620429992676\n",
      "19364\t@0.4415731430053711s\t Sampled: 0\n",
      "START: 21166\n"
     ]
    },
    {
     "name": "stderr",
     "output_type": "stream",
     "text": [
      "90it [00:00, 194.21it/s]\n"
     ]
    },
    {
     "name": "stdout",
     "output_type": "stream",
     "text": [
      "21166\tLoaded: 0.47439122200012207\n",
      "21166\tPruned: 2.3054561614990234\n",
      "21166\t@2.380438804626465s\t Sampled: 3\n",
      "START: 16992\n"
     ]
    },
    {
     "name": "stderr",
     "output_type": "stream",
     "text": [
      "42it [00:00, 194.11it/s]\n"
     ]
    },
    {
     "name": "stdout",
     "output_type": "stream",
     "text": [
      "16992\tLoaded: 0.22812819480895996\n",
      "16992\tPruned: 0.6224210262298584\n",
      "16992\t@0.626230001449585s\t Sampled: 1\n",
      "START: 3210\n"
     ]
    },
    {
     "name": "stderr",
     "output_type": "stream",
     "text": [
      "310it [00:01, 185.67it/s]\n"
     ]
    },
    {
     "name": "stdout",
     "output_type": "stream",
     "text": [
      "3210\tLoaded: 1.6784298419952393\n",
      "3210\tPruned: 23.505011558532715\n",
      "3210\t@25.59369397163391s\t Sampled: 19\n",
      "START: 10069\n"
     ]
    },
    {
     "name": "stderr",
     "output_type": "stream",
     "text": [
      "260it [00:01, 195.07it/s]\n"
     ]
    },
    {
     "name": "stdout",
     "output_type": "stream",
     "text": [
      "10069\tLoaded: 1.3457491397857666\n",
      "10069\tPruned: 16.606889724731445\n",
      "10069\t@21.38482356071472s\t Sampled: 27\n",
      "START: 18009\n"
     ]
    },
    {
     "name": "stderr",
     "output_type": "stream",
     "text": [
      "877it [00:04, 204.82it/s]\n"
     ]
    },
    {
     "name": "stdout",
     "output_type": "stream",
     "text": [
      "18009\tLoaded: 4.291403293609619\n",
      "18009\tPruned: 175.28465056419373\n",
      "18009\t@185.9761462211609s\t Sampled: 97\n",
      "START: 5424\n"
     ]
    },
    {
     "name": "stderr",
     "output_type": "stream",
     "text": [
      "181it [00:00, 187.76it/s]\n"
     ]
    },
    {
     "name": "stdout",
     "output_type": "stream",
     "text": [
      "5424\tLoaded: 0.9764842987060547\n",
      "5424\tPruned: 8.04410982131958\n",
      "5424\t@9.025786876678467s\t Sampled: 12\n"
     ]
    }
   ],
   "source": [
    "\"\"\"\n",
    "Now we move on to bigger graphs -- Wikipedia\n",
    "Randomly mining topics (cliques) with edge-weight > npmi-value 0.1\n",
    "\"\"\"\n",
    "import random\n",
    "from topic_metrics.mining import sample\n",
    "\n",
    "r = random.sample(range(30000), 10)\n",
    "samples = []\n",
    "for key in r:\n",
    "    samples.extend(sample(key, \"tests/wiki/prob_10\", \n",
    "                          clique_size=10, edge_condition=lambda v: v>.1, \n",
    "                          target=100))"
   ]
  },
  {
   "cell_type": "code",
   "execution_count": 14,
   "id": "a9cc9c41",
   "metadata": {
    "scrolled": true
   },
   "outputs": [
    {
     "name": "stderr",
     "output_type": "stream",
     "text": [
      "100%|██████████| 209/209 [00:02<00:00, 83.55it/s]\n"
     ]
    },
    {
     "name": "stdout",
     "output_type": "stream",
     "text": [
      "0.1868 buffer data file hardware instructions kernel memory mode stack virtual\n",
      "0.1933 allows api database disk files formats hardware microsoft processor supports\n",
      "0.1892 access applications client clients downloading file google networks server websites\n",
      "0.1595 application applications database directory functionality online providers provides resource virtual\n",
      "0.2121 built-in cache controller directory disk interface linux module stack user\n",
      "0.1863 accessing allows node object pointer stack stored storing variable variables\n",
      "0.2189 browser content download email files software users virtual website websites\n",
      "0.2048 access accessing care disabilities disability health healthcare hiv providers services\n",
      "0.1782 data email mobile network networks online phones provider services technologies\n",
      "0.1878 allows applications data interface interfaces method nodes processing query syntax\n",
      "0.2170 accessing client data directory files http information protocol url web\n",
      "0.2075 accessing apis applications apps browser hardware provider servers storage user\n",
      "0.2400 api app browser desktop device functionality interface messages mobile protocol\n",
      "0.1950 addresses automatically database databases e-mail email file protocol registration user\n",
      "0.1846 accessing automatically desktop disk menu mode server system users windows\n",
      "0.2024 client desktop e-mail internet network protocols providers servers sharing software\n",
      "0.2010 accessing api application databases developers interfaces java protocols technologies tools\n",
      "0.2124 application controller cpu devices hardware nodes protocol server software wireless\n",
      "0.1944 access allows app content developers online platform portal user web\n",
      "0.2034 access apps available computers customers data internet microsoft users wireless\n",
      "0.1990 address addresses browser cache node protocols query resource server web\n",
      "0.2101 accessing app browsing e-mail emails facebook microsoft phone phones websites\n",
      "0.1903 accessed accessible computers databases information interface libraries server servers stored\n",
      "0.2373 accessing cache cpu device external internal memory processor ram registers\n",
      "0.1973 computer computers cpu file files functionality interfaces module storage system\n",
      "0.1884 accessed application code computer data desktop google password phone user\n",
      "0.2091 apis cloud computing interfaces linux microsoft mobile remote virtual web\n",
      "0.1917 allows apps client code download functionality java linux phones windows\n",
      "0.2319 academic articles authored co-authored conferences papers presentations publications refereed research\n",
      "0.2526 labour parliament peerage politician scottish the_house_of_commons the_house_of_lords the_labour_party tory unionist\n",
      "0.2617 duke earldom eldest heir hon lord marquess peerage stafford styled\n",
      "0.2175 academic editor-in-chief editorial elsevier indexed peer published publishers publishes quarterly\n",
      "0.2078 banker barrister businessman diplomat educated great-grandson peer philanthropist politician son\n",
      "0.2294 chapters citations co-author journal journals peer publication publications scholarly scientific\n",
      "0.2027 baron chamberlain commons conservative lord lords peer tory westminster whip\n",
      "0.2013 barony earl honourable irish marquess peer peers privy sat the_house_of_commons\n",
      "0.2056 2nd 3rd 4th grandson jacobite marquess marquis nobleman son succeeded\n",
      "0.2239 baronet barrister commons hon liberal parliament sat sir viscount whig\n",
      "0.2433 client networking networks node packet peer protocol protocols servers tcp\n",
      "0.2129 abuse addiction adolescent adolescents behaviors coping hiv peer prevention substance\n",
      "0.1951 1st baron chancellor duke knighted marshal privy sir steward succeeded\n",
      "0.2148 baron eldest gloucestershire hertfordshire landowner northumberland oxfordshire sat son wiltshire\n",
      "0.1752 assessments evaluated evaluation evaluations findings interventions methodology outcomes peer researchers\n",
      "0.1817 behavior behaviors interaction interactions interpersonal learning processes research researchers socialization\n",
      "0.2340 1st 3rd 5th 6th 9th baronet countess earldom jure peer\n",
      "0.2029 calling complimented gave guardian nicely rated review reviewer stars stating\n",
      "0.1732 doesn fun good lot nice nicely said saying things think\n",
      "0.1852 allmusic ballad groove nicely pop soul sounds tune tunes vocals\n",
      "0.1591 characters dialogue interesting movie nicely plot praised scenes script story\n",
      "0.1456 ballad beautiful commented complimented feel feeling moments nice praised pretty\n",
      "0.2317 brussels exhibited exhibition exhibitions exposition gallery maison nouveau palais salon\n",
      "0.2974 dans des est french grande histoire les maison une ville\n",
      "0.1861 apartment building buildings demolished house housed houses maison mansion residence\n",
      "0.1969 army artillery evacuated garrison hurriedly marched retreat retreated troops withdrew\n",
      "0.1857 billionaire bought business businessman co-owner manufacturer owned owner shareholder stake\n",
      "0.2159 advisor banker ceo chairman co-founder entrepreneur firm investment investor shareholder\n",
      "0.2043 banking broker finance financial hedge insurance investment loans money transaction\n",
      "0.2146 born daughter educated eldest father lawyer life married mother wife\n",
      "0.1899 banker bankers bankrupt banks debts financing invested loans mortgage treasury\n",
      "0.1955 aristocrat baron cousin descended grandfather landowner magnate maternal sir wealthy\n",
      "0.2425 baronet educated elder grandparents great-grandfather maternal née paternal sister uncle\n",
      "0.2008 attorney congressman legislator mayor postmaster republican senator served treasurer whig\n",
      "0.2010 benjamin brother daughter daughters grandfather hon née remarried son youngest\n",
      "0.2498 banking barclays business ceo citigroup corporate deutsche_bank executive hsbc morgan_stanley\n",
      "0.2478 banker baron baronet baronetage eldest great-grandson nephew peerage sheriff son\n",
      "0.1994 banker benefactor financier fortune industrialist merchant rich uncle wealthy widow\n",
      "0.1886 baron brother brother-in-law caroline elder granddaughter married niece sons widow\n",
      "0.1894 businessman estate farmer landowner merchant paternal philanthropist planter son wife\n",
      "0.2334 family granddaughter grandfather grandson great-granddaughter great-grandson heiress inherited mother paternal\n",
      "0.1758 banker cousin daughters divorced husband mistress mother niece sister socialite\n",
      "0.1926 bequeathed cousin daughter descendant grandson nephew samuel son-in-law sons uncle\n",
      "0.2011 banker biography born businessman diplomat grandfather legislator physician politician statesman\n",
      "0.2511 baronet barrister conservative hon peer politician sat sir the_house_of_commons whig\n",
      "0.2052 circuit circuits component components detector device electrical modules semiconductor voltage\n",
      "0.2035 barrier currents diffusion electron electrons flow layer leakage thermal transistor\n",
      "0.2019 amplifiers antenna diode input modules optical output receiver receivers switch\n",
      "0.2373 applications diodes electrical lamps leds lighting sensors solid-state switches tubes\n",
      "0.2090 differential element equal equation exponential input linear matrix simplest zero\n",
      "0.1967 applications circuits electron electronic electronics laser microwave optical oscillator sensitive\n",
      "0.1915 components detectors filter frequency pulse receivers sensitive sensor signal spectrum\n",
      "0.2206 coil electrically flow heat pump tube tubes vacuum valve voltage\n",
      "0.2499 capacitance capacitor coil device filter input noise oscillator transformer tuned\n",
      "0.1967 battery capacitor electrical electrodes energy grid load output sensor thermal\n",
      "0.2709 amplifier circuits frequencies frequency input switching threshold transistor transistors voltages\n",
      "0.2252 amplifier audio capacitors converter device diode electronics generator impedance tube\n",
      "0.2085 absorption energy equation frequencies function nonlinear proportional quantum wave wavelength\n",
      "0.2586 absorption detectors diode infrared lasers microwave radiation sensors solar visible\n",
      "0.1923 array arrays beam coupled detection electrodes frequency laser semiconductor sensors\n",
      "0.2011 efficient energy generate generator lighting photovoltaic power pump solar supply\n",
      "0.2132 beam device diodes electrons emitted frequencies generate lasers magnetic optical\n",
      "0.1953 allows continuous converter feedback frequencies mode oscillator output signal voltage\n",
      "0.2333 electrons gallium organic properties semiconductor semiconductors solid substrate temperature transistors\n",
      "0.2124 capacitance devices diodes electric microwave output power semiconductor switching vacuum\n",
      "0.2287 amplifiers capacitance capacitors chip circuit electronic logic signal signals transistor\n",
      "0.2272 efficiency efficient emission lasers leds quantum semiconductor silicon spectrum thermal\n",
      "0.1647 applications components diode equation heat magnetic properties thermal useful wavelengths\n",
      "0.2803 anode applied bias cathode diode electrodes electrons signal voltages volts\n",
      "0.1970 detectors electrical laser layer liquid magnetic metal semiconductors silicon vacuum\n",
      "0.2048 antenna circuit coil connected electric generator load resistor switches voltages\n",
      "0.2256 characteristic diode electron emission emitted frequency temperature voltage wavelength zero\n",
      "0.2088 capabilities detect drone equipped onboard payload radar satellite sensor sensors\n",
      "0.1972 bells blowing horn horns instrument loud pipes sounds trumpet whistle\n",
      "0.2261 bass brass chromatic concerto flute harmonic horn melody piano rhythmic\n",
      "0.1923 device electric invented lever manufactured mechanical patented pedal pneumatic wheel\n",
      "0.2250 altitude flight flying ils landing navigation navigational pilots radar vor\n",
      "0.2242 detection ground-based hubble imaging measurement optics resolution satellite spacecraft telescope\n",
      "0.2097 bands brass clarinet instrumentation marching musicians orchestras repertoire symphonic tunes\n",
      "0.2520 banjo chords drums flute mandolin musical orchestra plucked string strings\n",
      "0.2236 cellist classical compositions concerto haydn musician orchestral soloists strings tenor\n",
      "0.2658 analog drum electronic midi roland samples sampling synth synthesizer yamaha\n",
      "0.2556 bassline chords guitar instrumentation melody rhythm riffs sampled samples synthesizers\n",
      "0.2414 flute instrumental opus orchestral organ pianist quintet sonatas symphonies trios\n",
      "0.2289 beethoven cello compose composing flute haydn lessons orchestras viola violinist\n",
      "0.1936 altitude angle azimuth celestial compass horizon instrument measured meridian solar\n",
      "0.2161 detector detectors instrument ion measurement neutron sensitive spectra spectrometry technique\n",
      "0.1879 cylindrical detectors device electrostatic magnetic measuring optical plasma probe tube\n",
      "0.3869 clarinet clarinets flute horns instruments oboes percussion saxophones wind woodwind\n",
      "0.1995 astronomers instrument instruments measurements observational observations observing optical satellite x-ray\n",
      "0.2218 accompaniment cello instruments melody musicians pedal pianos saxophone sounds synthesizer\n",
      "0.2463 atmospheric magnetic microwave observatory solar spectra spectral spectrometer spectroscopy wavelength\n",
      "0.2530 acoustic chords drum drumming instruments percussive piano snare solo solos\n",
      "0.2203 accompaniment accordion compositions concert harpsichord oboe performers pianist repertoire violin\n",
      "0.2773 astronomer astronomical celestial galileo jupiter kepler mars observing telescope telescopes\n",
      "0.2490 astronomical ccd detect detectors imaging infrared measured observations radiation spectral\n",
      "0.2014 drums guitarists music musician pianist playing rhythm saxophone solos trumpeter\n",
      "0.2269 acoustic amplifier harmonic harmonics instrument resonance resonant string tone tones\n",
      "0.2228 composing harp jazz orchestration pianist piano string suite symphonic trumpet\n",
      "0.2043 bands drummers flute instrument keyboards percussionist recordings rhythm saxophonist tenor\n",
      "0.2780 electric fender guitars hammond keyboards organ pedals piano reverb synthesizer\n",
      "0.2330 accompaniment drumming folk guitars harmonies melodies orchestral percussion rhythmic sound\n",
      "0.2132 chords instrument melodic notation notes octave pitch polyphonic rhythmic tune\n",
      "0.3226 baritone cornet musician oboe percussion soloist soprano trombone trumpet tuba\n",
      "0.3019 fluorescence imaging laser microscopy optical sample scanning spectrometry spectroscopy uses\n",
      "0.2156 acoustic flute harmonies melodic rhythms synth synthesizers trumpet violin voice\n",
      "0.2532 bass distortion guitar guitarists instrument metal overdrive pedal pedals sound\n",
      "0.2679 cantatas chamber choir music quartets repertoire soloists string symphonies viola\n",
      "0.1963 clarinet classical composing concert musical piece quartets quintet saxophone soloist\n",
      "0.2674 cellist clarinetist jazz percussionist quintet solo soprano trumpeter violin violinist\n",
      "0.2514 bassoon choir clarinet drums harp melody singing solo tenor trombone\n",
      "0.2201 accompaniment chamber choirs composers ensembles harp instrumental instrumentation soloist solos\n",
      "0.1989 calibration instrumentation instruments laser probe radiation sensitive sensors spectrometer telescope\n",
      "0.2768 accompanied basso cello continuo oboes organ solo soloists trumpet vocal\n",
      "0.2155 electronic genres guitar improvisation jazz music musical musicians rhythmic rhythms\n",
      "0.3119 accordion alto brass guitar harmonica reed sax saxophone tenor trumpet\n",
      "0.3187 beethoven classical liszt mozart pianists recital recitals repertoire sonata sonatas\n",
      "0.2038 camera capabilities device digital display handheld interface portable touchscreen virtual\n",
      "0.2269 angular astronomers astronomy cosmic hubble infrared mars planetary satellites solar\n",
      "0.2104 bach cello expressive instrumental melodies musical piano repertoire soprano tenor\n",
      "0.2421 banjo cello clarinet fiddle harmonica harmonium instrument play playing plays\n",
      "0.2045 drum horns melodic melodies melody sounded sounding strings tones tunes\n",
      "0.2319 camera detect high-resolution microscope probe resolution scan scanning technique x-ray\n",
      "0.2623 cosmic detected gamma-ray measured spacecraft spectra telescopes ultraviolet x-ray x-rays\n",
      "0.2142 choir compositions handel instrument musicians organist piano recital soloist violinist\n",
      "0.2135 built-in button console controller controls interface keyboard microphone optional switches\n",
      "0.3790 basses bassoons brass cello harp horns trumpets tuba violin violins\n",
      "0.2658 concertos ensemble harp horn oboe orchestras saxophone soloists timpani wind\n",
      "0.2611 diatonic fifths harmonic instruments intonation keys notes scales temperament tuned\n",
      "0.1983 compositional haydn instrument liszt melody music organ piece symphonic violin\n",
      "0.2454 acoustic drums horn keyboards musicians percussion quintet sax violins vocal\n",
      "0.2644 bumpers dashboard leather mirrors optional package redesigned trims upholstery wheel\n",
      "0.2515 acoustic amplification amplified amplifiers distortion electric electronic loudspeaker loudspeakers sounds\n",
      "0.2426 composer composers concert fugue johann_sebastian_bach music orchestral organist sonata soprano\n",
      "0.2306 analytical detecting detection infrared measuring resonance sensitive sensitivity spectroscopy x-ray\n",
      "0.2226 amplifier amplifiers electronics fender instruments manufactured manufacturer manufacturers pickups precision\n",
      "0.2427 acoustic cello ensembles guitar guitars harpsichord mandolin recorder recordings trombone\n",
      "0.2163 bell bells octave organ sound sounding tenor tone treble tuning\n",
      "0.1915 classical flute harmonica musicians performer performers singing solos soprano virtuoso\n",
      "0.2491 accompanied bach concerto instruments orchestras pianists soloist string violin virtuoso\n",
      "0.2134 accuracy aperture device infrared measurement meter sensing sensor wavelength wavelengths\n",
      "0.2050 baritone composers concerto instrument mozart musical performer pianist solo viola\n",
      "0.2563 chord guitar octave octaves piano sounds tones tuned unison violin\n",
      "0.2227 compositions counterpoint guitars harmonic melodic musical orchestration rhythm sounds tonal\n",
      "0.1900 harmonica instrumental orchestra rhythm sound synthesizer trombone tune violin vocal\n",
      "0.2582 fiddle guitar harp instruments lute maker musician organ stringed viola\n",
      "0.2038 bamboo flutes holes hollow metal pipe pipes reeds tube wooden\n",
      "0.2440 angle aperture camera diffraction distortion focal mirror mirrors optical telescope\n",
      "0.1919 accurate accurately calculate compass gps magnetic measurement observations precision sensors\n",
      "0.3036 esa lander landing lunar mars module nasa payload payloads rover\n",
      "0.1984 detected detects instrument magnetic radiation sample scan scanner sensitivity sensor\n",
      "0.1988 bore brass casing chamber cylindrical instrument pipe piston slide valves\n",
      "0.1922 acoustic banjo chord compositions instrumentation jazz melodies organ saxophone tune\n",
      "0.2727 bach bwv chamber compositions concertos johann_sebastian_bach piece solo sonatas suite\n",
      "0.2179 accurate detecting doppler laser measured measurements orbiting radar satellites wavelength\n",
      "0.2899 accompaniment bass clarinet concertos flutes sonata strings tone viola violins\n",
      "0.2341 antennas astronomy atmospheric detection ghz optical radar radiation telescopes wavelengths\n",
      "0.2626 dashboard grille headlamps headlights instrument lamps mirror mounted trim windshield\n",
      "0.3017 bach baroque flutes instrument instrumentation oboe oboes orchestral orchestration trumpets\n",
      "0.1811 controllers controls device electronic electronics instrument module navigation on-board sensors\n",
      "0.2159 adjustable adjustment button instrument knob lever manual steering tuning valve\n",
      "0.1906 angular aperture detect instrument laser measuring microwave optics precision telescopes\n",
      "0.2515 alto baritone drum musicians organ rhythm saxophones string trombones trumpets\n",
      "0.1849 accordion drum guitars instrument instrumental jazz musician orchestras singing synthesizers\n",
      "0.2471 atmospheric imaging instrument jupiter nasa orbiter orbiting planetary probe probes\n",
      "0.2980 choir concerto instrumentation piccolo piece timpani trombones trumpet violins woodwind\n",
      "0.2243 detect ionization measurement measurements plasma resonance sample samples spectrometer x-rays\n",
      "0.2154 accompaniment accompany dances fiddle mandolin music piano singing tune tunes\n",
      "0.1961 bass improvisation orchestral recordings repertoire singing soloist virtuosity vocal voice\n",
      "0.2272 animal bite jaws mammals mandible prey skull skulls species tooth\n",
      "0.2800 bones cheek dental facial jaw mandibular maxilla morphology posterior tooth\n",
      "0.2292 bone cheek mandible maxillary mouth shape skin teeth tip upper\n",
      "0.2170 cancer canine genetic genome hepatitis humans tissue vaccines viral virus\n",
      "0.2420 anterior canine dentition elongated eyes lateral possesses posterior sharp teeth\n",
      "0.2161 curved eyes jaw neck pointed resembles shape skull snout tail\n",
      "0.2932 bone bones canine canines diet incisors jaws lower molar molars\n",
      "0.2718 diseases infected infections influenza susceptible symptoms treatment vaccination vaccine virus\n",
      "0.2306 bone causes disease diseases disorder genetic kidney lymphoma tumor tumors\n",
      "0.2025 animals bite bites human infected infection infectious respiratory skin tissue\n",
      "0.1907 behavior behaviour canine dimorphism females male males species tail traits\n",
      "0.2188 breed breeding canine cat dogs foxes fur mammals pets predators\n"
     ]
    }
   ],
   "source": [
    "\"\"\"\n",
    "Finally, we caculate the final C_NPMI scores of the sampled topics\n",
    "We have some predefined settings such as C_NPMI, C_P, C_V, C_UMass\n",
    "Not sure why the code runs slower with type hints, hence its disabled\n",
    "\"\"\"\n",
    "from topic_metrics.measuring import C_NPMI\n",
    "scores = calculate_scores_from_counts(samples, \"/data/jiapeng/wiki/histogram.csv\",\n",
    "                 \"/data/jiapeng/wiki/final_2_pkl/10_single.pkl\", \n",
    "                 \"/data/jiapeng/wiki/final_2_pkl/10\",\n",
    "                     **C_NPMI(),\n",
    "                     smooth=True, min_freq='auto', num_processes=10)\n",
    "\n",
    "vocab = pickle.load(open(f\"/data/jiapeng/wiki/vocab.pkl\", 'rb'))\n",
    "vocab2id = {word:i for i, word in enumerate(sorted(vocab))}\n",
    "id2vocab = {v:k for k,v in vocab2id.items()}\n",
    "\n",
    "for sample, score in zip(samples, scores):\n",
    "    print(f\"{score:.4f} {' '.join([id2vocab[w] for w in sample])}\")"
   ]
  }
 ],
 "metadata": {
  "kernelspec": {
   "display_name": "Python 3 (ipykernel)",
   "language": "python",
   "name": "python3"
  },
  "language_info": {
   "codemirror_mode": {
    "name": "ipython",
    "version": 3
   },
   "file_extension": ".py",
   "mimetype": "text/x-python",
   "name": "python",
   "nbconvert_exporter": "python",
   "pygments_lexer": "ipython3",
   "version": "3.10.9"
  }
 },
 "nbformat": 4,
 "nbformat_minor": 5
}
